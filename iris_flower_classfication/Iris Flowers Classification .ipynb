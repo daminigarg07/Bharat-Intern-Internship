{
 "cells": [
  {
   "cell_type": "markdown",
   "id": "78fbd76c",
   "metadata": {},
   "source": [
    "# 📚 Importing Libraries"
   ]
  },
  {
   "cell_type": "code",
   "execution_count": 1,
   "id": "f3971d37",
   "metadata": {},
   "outputs": [],
   "source": [
    "# DataFlair Iris Flower Classification\n",
    "# Import Packages\n",
    "import numpy as np\n",
    "import matplotlib.pyplot as plt\n",
    "import seaborn as sns\n",
    "import pandas as pd\n",
    "%matplotlib inline\n",
    "from sklearn.linear_model import LogisticRegression \n",
    "from sklearn.model_selection import train_test_split\n",
    "from sklearn import svm\n",
    "from sklearn.neighbors import KNeighborsClassifier\n",
    "from sklearn.metrics import accuracy_score,confusion_matrix ,classification_report\n",
    "import warnings\n",
    "warnings.filterwarnings(\"ignore\")"
   ]
  },
  {
   "cell_type": "markdown",
   "id": "9331ad1b",
   "metadata": {},
   "source": [
    "# 📁 Dataset"
   ]
  },
  {
   "cell_type": "code",
   "execution_count": 2,
   "id": "81d38a8f",
   "metadata": {},
   "outputs": [
    {
     "data": {
      "text/html": [
       "<div>\n",
       "<style scoped>\n",
       "    .dataframe tbody tr th:only-of-type {\n",
       "        vertical-align: middle;\n",
       "    }\n",
       "\n",
       "    .dataframe tbody tr th {\n",
       "        vertical-align: top;\n",
       "    }\n",
       "\n",
       "    .dataframe thead th {\n",
       "        text-align: right;\n",
       "    }\n",
       "</style>\n",
       "<table border=\"1\" class=\"dataframe\">\n",
       "  <thead>\n",
       "    <tr style=\"text-align: right;\">\n",
       "      <th></th>\n",
       "      <th>sepal_length</th>\n",
       "      <th>petal_length</th>\n",
       "      <th>species</th>\n",
       "    </tr>\n",
       "  </thead>\n",
       "  <tbody>\n",
       "    <tr>\n",
       "      <th>0</th>\n",
       "      <td>5.1</td>\n",
       "      <td>1.4</td>\n",
       "      <td>Iris-setosa</td>\n",
       "    </tr>\n",
       "    <tr>\n",
       "      <th>1</th>\n",
       "      <td>4.9</td>\n",
       "      <td>1.4</td>\n",
       "      <td>Iris-setosa</td>\n",
       "    </tr>\n",
       "    <tr>\n",
       "      <th>2</th>\n",
       "      <td>4.7</td>\n",
       "      <td>1.3</td>\n",
       "      <td>Iris-setosa</td>\n",
       "    </tr>\n",
       "    <tr>\n",
       "      <th>3</th>\n",
       "      <td>4.6</td>\n",
       "      <td>1.5</td>\n",
       "      <td>Iris-setosa</td>\n",
       "    </tr>\n",
       "    <tr>\n",
       "      <th>4</th>\n",
       "      <td>5.0</td>\n",
       "      <td>1.4</td>\n",
       "      <td>Iris-setosa</td>\n",
       "    </tr>\n",
       "  </tbody>\n",
       "</table>\n",
       "</div>"
      ],
      "text/plain": [
       "   sepal_length  petal_length      species\n",
       "0           5.1           1.4  Iris-setosa\n",
       "1           4.9           1.4  Iris-setosa\n",
       "2           4.7           1.3  Iris-setosa\n",
       "3           4.6           1.5  Iris-setosa\n",
       "4           5.0           1.4  Iris-setosa"
      ]
     },
     "execution_count": 2,
     "metadata": {},
     "output_type": "execute_result"
    }
   ],
   "source": [
    " columns = ['sepal_length','petal_length', 'species'] \n",
    "# Load the data\n",
    "df = pd.read_csv('flower.csv')\n",
    "df.head()"
   ]
  },
  {
   "cell_type": "code",
   "execution_count": 3,
   "id": "208135ae",
   "metadata": {},
   "outputs": [
    {
     "name": "stdout",
     "output_type": "stream",
     "text": [
      "Rows, columns: (150, 3)\n"
     ]
    }
   ],
   "source": [
    "# See the number of rows and columns\n",
    "print(\"Rows, columns: \" + str(df.shape))"
   ]
  },
  {
   "cell_type": "code",
   "execution_count": 4,
   "id": "689aad1e",
   "metadata": {},
   "outputs": [
    {
     "data": {
      "text/html": [
       "<div>\n",
       "<style scoped>\n",
       "    .dataframe tbody tr th:only-of-type {\n",
       "        vertical-align: middle;\n",
       "    }\n",
       "\n",
       "    .dataframe tbody tr th {\n",
       "        vertical-align: top;\n",
       "    }\n",
       "\n",
       "    .dataframe thead th {\n",
       "        text-align: right;\n",
       "    }\n",
       "</style>\n",
       "<table border=\"1\" class=\"dataframe\">\n",
       "  <thead>\n",
       "    <tr style=\"text-align: right;\">\n",
       "      <th></th>\n",
       "      <th>sepal_length</th>\n",
       "      <th>petal_length</th>\n",
       "    </tr>\n",
       "  </thead>\n",
       "  <tbody>\n",
       "    <tr>\n",
       "      <th>count</th>\n",
       "      <td>150.000000</td>\n",
       "      <td>150.000000</td>\n",
       "    </tr>\n",
       "    <tr>\n",
       "      <th>mean</th>\n",
       "      <td>5.843333</td>\n",
       "      <td>3.758667</td>\n",
       "    </tr>\n",
       "    <tr>\n",
       "      <th>std</th>\n",
       "      <td>0.828066</td>\n",
       "      <td>1.764420</td>\n",
       "    </tr>\n",
       "    <tr>\n",
       "      <th>min</th>\n",
       "      <td>4.300000</td>\n",
       "      <td>1.000000</td>\n",
       "    </tr>\n",
       "    <tr>\n",
       "      <th>25%</th>\n",
       "      <td>5.100000</td>\n",
       "      <td>1.600000</td>\n",
       "    </tr>\n",
       "    <tr>\n",
       "      <th>50%</th>\n",
       "      <td>5.800000</td>\n",
       "      <td>4.350000</td>\n",
       "    </tr>\n",
       "    <tr>\n",
       "      <th>75%</th>\n",
       "      <td>6.400000</td>\n",
       "      <td>5.100000</td>\n",
       "    </tr>\n",
       "    <tr>\n",
       "      <th>max</th>\n",
       "      <td>7.900000</td>\n",
       "      <td>6.900000</td>\n",
       "    </tr>\n",
       "  </tbody>\n",
       "</table>\n",
       "</div>"
      ],
      "text/plain": [
       "       sepal_length  petal_length\n",
       "count    150.000000    150.000000\n",
       "mean       5.843333      3.758667\n",
       "std        0.828066      1.764420\n",
       "min        4.300000      1.000000\n",
       "25%        5.100000      1.600000\n",
       "50%        5.800000      4.350000\n",
       "75%        6.400000      5.100000\n",
       "max        7.900000      6.900000"
      ]
     },
     "execution_count": 4,
     "metadata": {},
     "output_type": "execute_result"
    }
   ],
   "source": [
    "# Some basic statistical analysis about the data\n",
    "df.describe()"
   ]
  },
  {
   "cell_type": "code",
   "execution_count": 5,
   "id": "64c9e63c",
   "metadata": {},
   "outputs": [
    {
     "name": "stdout",
     "output_type": "stream",
     "text": [
      "sepal_length    0\n",
      "petal_length    0\n",
      "species         0\n",
      "dtype: int64\n"
     ]
    }
   ],
   "source": [
    "#check missing values\n",
    "print(df.isna().sum())"
   ]
  },
  {
   "cell_type": "code",
   "execution_count": 6,
   "id": "e00f0568",
   "metadata": {},
   "outputs": [
    {
     "data": {
      "text/plain": [
       "26"
      ]
     },
     "execution_count": 6,
     "metadata": {},
     "output_type": "execute_result"
    }
   ],
   "source": [
    "#check duplicate values\n",
    "df.duplicated().sum()"
   ]
  },
  {
   "cell_type": "code",
   "execution_count": 7,
   "id": "a2b6e4a2",
   "metadata": {},
   "outputs": [
    {
     "data": {
      "text/plain": [
       "(124, 3)"
      ]
     },
     "execution_count": 7,
     "metadata": {},
     "output_type": "execute_result"
    }
   ],
   "source": [
    "df.drop_duplicates(inplace=True)\n",
    "df.shape"
   ]
  },
  {
   "cell_type": "markdown",
   "id": "af50c476",
   "metadata": {},
   "source": [
    "# Data Visualization 📊📈📉"
   ]
  },
  {
   "cell_type": "markdown",
   "id": "6a81cd59",
   "metadata": {},
   "source": [
    "# 📊 Pair Plot"
   ]
  },
  {
   "cell_type": "code",
   "execution_count": 8,
   "id": "07091838",
   "metadata": {},
   "outputs": [
    {
     "data": {
      "text/plain": [
       "<seaborn.axisgrid.PairGrid at 0x22ea2e2f970>"
      ]
     },
     "execution_count": 8,
     "metadata": {},
     "output_type": "execute_result"
    },
    {
     "data": {
      "image/png": "[encoded data removed]",
      "text/plain": [
       "<Figure size 643x500 with 6 Axes>"
      ]
     },
     "metadata": {},
     "output_type": "display_data"
    }
   ],
   "source": [
    "# Visualize the whole dataset\n",
    "sns.pairplot(df, hue='species')"
   ]
  },
  {
   "cell_type": "markdown",
   "id": "1b023e60",
   "metadata": {},
   "source": [
    "# 📊 Distribution Plot"
   ]
  },
  {
   "cell_type": "code",
   "execution_count": 9,
   "id": "21a13261",
   "metadata": {},
   "outputs": [
    {
     "data": {
      "text/plain": [
       "<AxesSubplot:xlabel='petal_length', ylabel='Density'>"
      ]
     },
     "execution_count": 9,
     "metadata": {},
     "output_type": "execute_result"
    },
    {
     "data": {
      "image/png": "[encoded data removed]",
      "text/plain": [
       "<Figure size 640x480 with 1 Axes>"
      ]
     },
     "metadata": {},
     "output_type": "display_data"
    }
   ],
   "source": [
    "sns.distplot(df[\"sepal_length\"],hist=False)\n",
    "sns.distplot(df[\"petal_length\"],hist=False)"
   ]
  },
  {
   "cell_type": "code",
   "execution_count": 10,
   "id": "327631de",
   "metadata": {},
   "outputs": [],
   "source": [
    "# Separate features and target  \n",
    "data = df.values\n",
    "X = data[:,0:2]\n",
    "Y = data[:,2]"
   ]
  },
  {
   "cell_type": "code",
   "execution_count": 11,
   "id": "effb363d",
   "metadata": {},
   "outputs": [],
   "source": [
    "# Calculate average of each features for all classes\n",
    "Y_Data = np.array([np.average(X[:, i][Y==j].astype('float32')) for i in range (X.shape[1])\n",
    " for j in (np.unique(Y))])\n",
    "Y_Data_reshaped = Y_Data.reshape(2, 3)\n",
    "Y_Data_reshaped = np.swapaxes(Y_Data_reshaped, 0, 1)\n",
    "X_axis = np.arange(len(columns)-1)\n",
    "width = 0.25"
   ]
  },
  {
   "cell_type": "markdown",
   "id": "22175e7f",
   "metadata": {},
   "source": [
    "# 📊 Bar Plot"
   ]
  },
  {
   "cell_type": "code",
   "execution_count": 12,
   "id": "b867675a",
   "metadata": {
    "scrolled": true
   },
   "outputs": [
    {
     "data": {
      "image/png": "[encoded data removed]",
      "text/plain": [
       "<Figure size 640x480 with 1 Axes>"
      ]
     },
     "metadata": {},
     "output_type": "display_data"
    }
   ],
   "source": [
    "# Plot the average\n",
    "plt.bar(X_axis, Y_Data_reshaped[0], width, label = 'Setosa')\n",
    "plt.bar(X_axis+width, Y_Data_reshaped[1], width, label = 'Versicolour')\n",
    "plt.bar(X_axis+width*2, Y_Data_reshaped[2], width, label = 'Virginica')\n",
    "plt.xticks(X_axis, columns[:2])\n",
    "plt.xlabel(\"Features\")\n",
    "plt.ylabel(\"Value in cm.\")\n",
    "plt.legend(bbox_to_anchor=(1.3,1))\n",
    "plt.show()"
   ]
  },
  {
   "cell_type": "markdown",
   "id": "903e6e53",
   "metadata": {},
   "source": [
    "# 🛠️ Feature Engineering "
   ]
  },
  {
   "cell_type": "code",
   "execution_count": 13,
   "id": "19dbace9",
   "metadata": {},
   "outputs": [],
   "source": [
    "# Split the data to train and test dataset.\n",
    "from sklearn.model_selection import train_test_split\n",
    "X_train, X_test, y_train, y_test = train_test_split(X, Y, test_size=0.2)"
   ]
  },
  {
   "cell_type": "markdown",
   "id": "798b6509",
   "metadata": {},
   "source": [
    "# 📈Model Training: Support Vector Classifier "
   ]
  },
  {
   "cell_type": "code",
   "execution_count": 14,
   "id": "055a1658",
   "metadata": {},
   "outputs": [
    {
     "data": {
      "text/plain": [
       "SVC()"
      ]
     },
     "execution_count": 14,
     "metadata": {},
     "output_type": "execute_result"
    }
   ],
   "source": [
    "# Support vector machine algorithm\n",
    "from sklearn.svm import SVC\n",
    "svn = SVC()\n",
    "svn.fit(X_train, y_train)"
   ]
  },
  {
   "cell_type": "code",
   "execution_count": 15,
   "id": "825e8e24",
   "metadata": {
    "scrolled": true
   },
   "outputs": [],
   "source": [
    "# Predict from the test dataset\n",
    "svc_pred = svn.predict(X_test)\n"
   ]
  },
  {
   "cell_type": "markdown",
   "id": "dda59cc5",
   "metadata": {},
   "source": [
    "# 📈 Logistic Regression"
   ]
  },
  {
   "cell_type": "code",
   "execution_count": 16,
   "id": "02318694",
   "metadata": {},
   "outputs": [
    {
     "data": {
      "text/plain": [
       "LogisticRegression()"
      ]
     },
     "execution_count": 16,
     "metadata": {},
     "output_type": "execute_result"
    }
   ],
   "source": [
    "model = LogisticRegression()\n",
    "model.fit(X_train,y_train)"
   ]
  },
  {
   "cell_type": "code",
   "execution_count": 17,
   "id": "a2d299f9",
   "metadata": {},
   "outputs": [],
   "source": [
    "model_pred = model.predict(X_test)"
   ]
  },
  {
   "cell_type": "markdown",
   "id": "88c23e43",
   "metadata": {},
   "source": [
    "# 📈 K-Nearest Neighbour (KNN)"
   ]
  },
  {
   "cell_type": "code",
   "execution_count": 18,
   "id": "c181558b",
   "metadata": {},
   "outputs": [
    {
     "data": {
      "text/plain": [
       "KNeighborsClassifier(n_neighbors=3)"
      ]
     },
     "execution_count": 18,
     "metadata": {},
     "output_type": "execute_result"
    }
   ],
   "source": [
    "clf = KNeighborsClassifier(n_neighbors=3)\n",
    "clf.fit(X_train,y_train)"
   ]
  },
  {
   "cell_type": "code",
   "execution_count": 19,
   "id": "7322afa9",
   "metadata": {},
   "outputs": [],
   "source": [
    "clf_pred = clf.predict(X_test)"
   ]
  },
  {
   "cell_type": "markdown",
   "id": "17dd18e4",
   "metadata": {},
   "source": [
    "# 📈 Naive Bayes"
   ]
  },
  {
   "cell_type": "code",
   "execution_count": 20,
   "id": "9c31a7ee",
   "metadata": {
    "scrolled": true
   },
   "outputs": [
    {
     "data": {
      "text/plain": [
       "GaussianNB()"
      ]
     },
     "execution_count": 20,
     "metadata": {},
     "output_type": "execute_result"
    }
   ],
   "source": [
    "from sklearn.naive_bayes import GaussianNB\n",
    "\n",
    "nb = GaussianNB()\n",
    "nb.fit(X_train,y_train)"
   ]
  },
  {
   "cell_type": "code",
   "execution_count": 21,
   "id": "37681e5d",
   "metadata": {},
   "outputs": [],
   "source": [
    "nb_pred = nb.predict(X_test)"
   ]
  },
  {
   "cell_type": "markdown",
   "id": "6fead16b",
   "metadata": {},
   "source": [
    "# 🧪Model Evaluation \n"
   ]
  },
  {
   "cell_type": "markdown",
   "id": "70f029c6",
   "metadata": {},
   "source": [
    "# 🧪Confusion Matrix\n"
   ]
  },
  {
   "cell_type": "code",
   "execution_count": 22,
   "id": "9fe2d49b",
   "metadata": {},
   "outputs": [
    {
     "data": {
      "text/plain": [
       "array([[7, 0, 0],\n",
       "       [0, 8, 1],\n",
       "       [0, 0, 9]], dtype=int64)"
      ]
     },
     "execution_count": 22,
     "metadata": {},
     "output_type": "execute_result"
    }
   ],
   "source": [
    "confusion_matrix(y_test, model_pred)"
   ]
  },
  {
   "cell_type": "code",
   "execution_count": 23,
   "id": "0033f50c",
   "metadata": {},
   "outputs": [
    {
     "data": {
      "text/plain": [
       "array([[7, 0, 0],\n",
       "       [0, 8, 1],\n",
       "       [0, 0, 9]], dtype=int64)"
      ]
     },
     "execution_count": 23,
     "metadata": {},
     "output_type": "execute_result"
    }
   ],
   "source": [
    "confusion_matrix(y_test, clf_pred)"
   ]
  },
  {
   "cell_type": "code",
   "execution_count": 24,
   "id": "71c94620",
   "metadata": {},
   "outputs": [
    {
     "data": {
      "text/plain": [
       "array([[7, 0, 0],\n",
       "       [0, 9, 0],\n",
       "       [0, 1, 8]], dtype=int64)"
      ]
     },
     "execution_count": 24,
     "metadata": {},
     "output_type": "execute_result"
    }
   ],
   "source": [
    "confusion_matrix(y_test, svc_pred)"
   ]
  },
  {
   "cell_type": "code",
   "execution_count": 25,
   "id": "3e9da789",
   "metadata": {},
   "outputs": [
    {
     "data": {
      "text/plain": [
       "array([[7, 0, 0],\n",
       "       [0, 7, 2],\n",
       "       [0, 1, 8]], dtype=int64)"
      ]
     },
     "execution_count": 25,
     "metadata": {},
     "output_type": "execute_result"
    }
   ],
   "source": [
    "confusion_matrix(y_test, nb_pred)"
   ]
  },
  {
   "cell_type": "markdown",
   "id": "e9d7a573",
   "metadata": {},
   "source": [
    "# 🧪All Model Accuracy score\n"
   ]
  },
  {
   "cell_type": "code",
   "execution_count": 26,
   "id": "ea3e2a2b",
   "metadata": {},
   "outputs": [
    {
     "data": {
      "text/plain": [
       "0.96"
      ]
     },
     "execution_count": 26,
     "metadata": {},
     "output_type": "execute_result"
    }
   ],
   "source": [
    "# Calculate the accuracy\n",
    "from sklearn.metrics import accuracy_score\n",
    "accuracy_score(y_test, svc_pred)"
   ]
  },
  {
   "cell_type": "code",
   "execution_count": 27,
   "id": "338c2fb9",
   "metadata": {},
   "outputs": [
    {
     "data": {
      "text/plain": [
       "0.96"
      ]
     },
     "execution_count": 27,
     "metadata": {},
     "output_type": "execute_result"
    }
   ],
   "source": [
    "#Logistic Regression\n",
    "accuracy_score(model_pred, y_test)"
   ]
  },
  {
   "cell_type": "code",
   "execution_count": 28,
   "id": "625fb9ee",
   "metadata": {},
   "outputs": [
    {
     "data": {
      "text/plain": [
       "0.96"
      ]
     },
     "execution_count": 28,
     "metadata": {},
     "output_type": "execute_result"
    }
   ],
   "source": [
    "#KNN\n",
    "accuracy_score(y_test,clf_pred)"
   ]
  },
  {
   "cell_type": "code",
   "execution_count": 29,
   "id": "be7fb5ec",
   "metadata": {},
   "outputs": [
    {
     "data": {
      "text/plain": [
       "0.88"
      ]
     },
     "execution_count": 29,
     "metadata": {},
     "output_type": "execute_result"
    }
   ],
   "source": [
    "#Naive Bayes\n",
    "accuracy_score(y_test,nb_pred)"
   ]
  },
  {
   "cell_type": "markdown",
   "id": "b0c83170",
   "metadata": {},
   "source": [
    "# 🎯Model Predictions "
   ]
  },
  {
   "cell_type": "code",
   "execution_count": 30,
   "id": "067e1f0a",
   "metadata": {},
   "outputs": [
    {
     "data": {
      "text/plain": [
       "array(['Iris-virginica', 'Iris-versicolor', 'Iris-setosa',\n",
       "       'Iris-versicolor', 'Iris-virginica', 'Iris-setosa',\n",
       "       'Iris-virginica', 'Iris-versicolor', 'Iris-versicolor',\n",
       "       'Iris-versicolor', 'Iris-setosa', 'Iris-versicolor', 'Iris-setosa',\n",
       "       'Iris-setosa', 'Iris-virginica', 'Iris-versicolor',\n",
       "       'Iris-versicolor', 'Iris-virginica', 'Iris-virginica',\n",
       "       'Iris-setosa', 'Iris-setosa', 'Iris-versicolor', 'Iris-versicolor',\n",
       "       'Iris-virginica', 'Iris-virginica'], dtype=object)"
      ]
     },
     "execution_count": 30,
     "metadata": {},
     "output_type": "execute_result"
    }
   ],
   "source": [
    "svc_pred"
   ]
  },
  {
   "cell_type": "code",
   "execution_count": 31,
   "id": "c9f7d21d",
   "metadata": {},
   "outputs": [
    {
     "data": {
      "text/plain": [
       "array(['Iris-virginica', 'Iris-versicolor', 'Iris-setosa',\n",
       "       'Iris-versicolor', 'Iris-virginica', 'Iris-setosa',\n",
       "       'Iris-virginica', 'Iris-versicolor', 'Iris-virginica',\n",
       "       'Iris-versicolor', 'Iris-setosa', 'Iris-versicolor', 'Iris-setosa',\n",
       "       'Iris-setosa', 'Iris-virginica', 'Iris-versicolor',\n",
       "       'Iris-versicolor', 'Iris-virginica', 'Iris-virginica',\n",
       "       'Iris-setosa', 'Iris-setosa', 'Iris-virginica', 'Iris-versicolor',\n",
       "       'Iris-virginica', 'Iris-virginica'], dtype=object)"
      ]
     },
     "execution_count": 31,
     "metadata": {},
     "output_type": "execute_result"
    }
   ],
   "source": [
    "model_pred"
   ]
  },
  {
   "cell_type": "code",
   "execution_count": 32,
   "id": "efd9890d",
   "metadata": {},
   "outputs": [
    {
     "data": {
      "text/plain": [
       "array(['Iris-virginica', 'Iris-versicolor', 'Iris-setosa',\n",
       "       'Iris-versicolor', 'Iris-virginica', 'Iris-setosa',\n",
       "       'Iris-virginica', 'Iris-versicolor', 'Iris-virginica',\n",
       "       'Iris-versicolor', 'Iris-setosa', 'Iris-versicolor', 'Iris-setosa',\n",
       "       'Iris-setosa', 'Iris-virginica', 'Iris-versicolor',\n",
       "       'Iris-versicolor', 'Iris-virginica', 'Iris-virginica',\n",
       "       'Iris-setosa', 'Iris-setosa', 'Iris-virginica', 'Iris-versicolor',\n",
       "       'Iris-virginica', 'Iris-virginica'], dtype=object)"
      ]
     },
     "execution_count": 32,
     "metadata": {},
     "output_type": "execute_result"
    }
   ],
   "source": [
    "clf_pred"
   ]
  },
  {
   "cell_type": "code",
   "execution_count": 33,
   "id": "8e41f3cb",
   "metadata": {},
   "outputs": [
    {
     "data": {
      "text/plain": [
       "array(['Iris-virginica', 'Iris-versicolor', 'Iris-setosa',\n",
       "       'Iris-versicolor', 'Iris-virginica', 'Iris-setosa',\n",
       "       'Iris-virginica', 'Iris-versicolor', 'Iris-versicolor',\n",
       "       'Iris-versicolor', 'Iris-setosa', 'Iris-versicolor', 'Iris-setosa',\n",
       "       'Iris-setosa', 'Iris-virginica', 'Iris-versicolor',\n",
       "       'Iris-versicolor', 'Iris-virginica', 'Iris-virginica',\n",
       "       'Iris-setosa', 'Iris-setosa', 'Iris-virginica', 'Iris-virginica',\n",
       "       'Iris-virginica', 'Iris-virginica'], dtype='<U15')"
      ]
     },
     "execution_count": 33,
     "metadata": {},
     "output_type": "execute_result"
    }
   ],
   "source": [
    "nb_pred"
   ]
  },
  {
   "cell_type": "code",
   "execution_count": 34,
   "id": "b6aeb72c",
   "metadata": {},
   "outputs": [
    {
     "name": "stdout",
     "output_type": "stream",
     "text": [
      "Prediction of Species: ['Iris-setosa' 'Iris-setosa' 'Iris-versicolor']\n"
     ]
    }
   ],
   "source": [
    "X_new = np.array([[3, 2], [  4.9, 2.2 ], [  6.3, 3.5]])\n",
    "#Prediction of the species from the input vector\n",
    "prediction = svn.predict(X_new)\n",
    "print(\"Prediction of Species: {}\".format(prediction))"
   ]
  }
 ],
 "metadata": {
  "kernelspec": {
   "display_name": "Python 3 (ipykernel)",
   "language": "python",
   "name": "python3"
  },
  "language_info": {
   "codemirror_mode": {
    "name": "ipython",
    "version": 3
   },
   "file_extension": ".py",
   "mimetype": "text/x-python",
   "name": "python",
   "nbconvert_exporter": "python",
   "pygments_lexer": "ipython3",
   "version": "3.9.13"
  }
 },
 "nbformat": 4,
 "nbformat_minor": 5
}
